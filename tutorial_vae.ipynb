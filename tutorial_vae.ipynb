{
 "cells": [
  {
   "cell_type": "code",
   "execution_count": 1,
   "metadata": {},
   "outputs": [],
   "source": [
    "import torch\n",
    "import torch.nn as nn\n",
    "import torch.nn.functional as F\n",
    "from torch.utils.data import DataLoader\n",
    "\n",
    "from torchvision import datasets\n",
    "from torchvision import transforms\n",
    "from torchvision.utils import save_image"
   ]
  },
  {
   "cell_type": "code",
   "execution_count": 2,
   "metadata": {},
   "outputs": [],
   "source": [
    "# Mnist Train_dataset\n",
    "transform = transforms.Compose([transforms.ToTensor()])\n",
    "\n",
    "train_dataset = datasets.MNIST(root='./mnist_data', train=True, transform=transform, download=True)\n",
    "train_dataset = datasets.MNIST(root='./mnist_data', train=False, transform=transform, download=True)\n",
    "\n",
    "BATCH_SIZE = 256\n",
    "train_dataloader = DataLoader(train_dataset, batch_size=BATCH_SIZE, shuffle=True, drop_last=True)\n",
    "test_dataloader = DataLoader(train_dataset, batch_size=BATCH_SIZE, shuffle=True, drop_last=False)"
   ]
  },
  {
   "cell_type": "code",
   "execution_count": 3,
   "metadata": {},
   "outputs": [
    {
     "data": {
      "text/plain": [
       "VAE(\n",
       "  (en_fc1): Linear(in_features=784, out_features=512, bias=True)\n",
       "  (en_fc2): Linear(in_features=512, out_features=256, bias=True)\n",
       "  (en_fc3_u): Linear(in_features=256, out_features=2, bias=True)\n",
       "  (en_fc3_var): Linear(in_features=256, out_features=2, bias=True)\n",
       "  (de_fc1): Linear(in_features=2, out_features=256, bias=True)\n",
       "  (de_fc2): Linear(in_features=256, out_features=512, bias=True)\n",
       "  (de_fc3): Linear(in_features=512, out_features=784, bias=True)\n",
       "  (flatten): Flatten(start_dim=1, end_dim=-1)\n",
       ")"
      ]
     },
     "execution_count": 3,
     "metadata": {},
     "output_type": "execute_result"
    }
   ],
   "source": [
    "class VAE(nn.Module):\n",
    "\n",
    "    def __init__(self, input_dim=784, hidden_dim1=512, hidden_dim2=256, z_dim=2):\n",
    "        super(VAE, self).__init__()\n",
    "\n",
    "        # encoder\n",
    "        self.en_fc1 = nn.Linear(input_dim, hidden_dim1)\n",
    "        self.en_fc2 = nn.Linear(hidden_dim1, hidden_dim2)\n",
    "        self.en_fc3_u = nn.Linear(hidden_dim2, z_dim) # u, mean\n",
    "        self.en_fc3_var = nn.Linear(hidden_dim2, z_dim) # s, log_var\n",
    "\n",
    "        # decoder\n",
    "\n",
    "        self.de_fc1 = nn.Linear(z_dim, hidden_dim2)\n",
    "        self.de_fc2 = nn.Linear(hidden_dim2, hidden_dim1)\n",
    "        self.de_fc3 = nn.Linear(hidden_dim1, input_dim)\n",
    "\n",
    "        #\n",
    "        self.flatten = nn.Flatten()\n",
    "\n",
    "    def encoder(self, inputs):\n",
    "        x = self.flatten(inputs)\n",
    "        x = F.relu(self.en_fc1(x))\n",
    "        x = F.relu(self.en_fc2(x))\n",
    "\n",
    "        mu = self.en_fc3_u(x)\n",
    "        log_var = self.en_fc3_var(x)\n",
    "\n",
    "        return mu, log_var\n",
    "    \n",
    "    def reparameterization(self, mu, log_var):\n",
    "        std = torch.exp(0.5 * log_var)\n",
    "        eps = torch.randn_like(std)\n",
    "        z = mu + std * eps\n",
    "        return z\n",
    "    \n",
    "    def decoder(self, z):\n",
    "        x = F.relu(self.de_fc1(z))\n",
    "        x = F.relu(self.de_fc2(x))\n",
    "        recon_x = torch.sigmoid(self.de_fc3(x)) # 0 ~ 1\n",
    "        return recon_x\n",
    "    \n",
    "    def forward(self, inputs):\n",
    "        mu, log_var = self.encoder(inputs)\n",
    "        z = self.reparameterization(mu, log_var)\n",
    "        recon_x = self.decoder(z)\n",
    "        return recon_x , mu, z\n",
    "    \n",
    "vae = VAE()\n",
    "vae"
   ]
  },
  {
   "cell_type": "code",
   "execution_count": 4,
   "metadata": {},
   "outputs": [],
   "source": [
    "optimizer = torch.optim.Adam(vae.parameters())\n",
    "\n",
    "def loss_function(recon_x, x, mu, log_var):\n",
    "    flatten = nn.Flatten()\n",
    "    bce = nn.BCELoss(reduction='sum')\n",
    "\n",
    "    x = flatten(x)\n",
    "\n",
    "    BCE_Loss = bce(recon_x, x)\n",
    "    KLD_Loss = 0.5 * torch.sum(mu**2 + torch.exp(log_var) - log_var -1)\n",
    "    return BCE_Loss + KLD_Loss"
   ]
  },
  {
   "cell_type": "code",
   "execution_count": 5,
   "metadata": {},
   "outputs": [],
   "source": [
    "def train(epoch):\n",
    "    vae.train()\n",
    "    train_losses = 0.0\n",
    "    for data, _ in train_dataloader:\n",
    "        optimizer.zero_grad()\n",
    "        recon_batch, mu, log_var = vae(data)\n",
    "\n",
    "        loss = loss_function(recon_batch, data, mu, log_var)\n",
    "        loss.backward()\n",
    "        optimizer.step()\n",
    "        train_losses += loss.item()\n",
    "    print(f'>>>>>EPOCH {epoch} Average_loss = {train_losses / len(train_dataloader.dataset)}')\n",
    "\n",
    "\n",
    "def test():\n",
    "    vae.eval()\n",
    "    test_losses = 0.0\n",
    "    with torch.no_grad():\n",
    "        for data, _ in test_dataloader:\n",
    "            recon_batch, mu, log_var = vae(data)\n",
    "            test_losses += loss_function(recon_batch, data, mu, log_var).item()\n",
    "    test_losses /= len(test_dataloader.dataset)\n",
    "    print(f'>>>>> Test set loss {test_losses}')"
   ]
  },
  {
   "cell_type": "code",
   "execution_count": 6,
   "metadata": {},
   "outputs": [
    {
     "name": "stdout",
     "output_type": "stream",
     "text": [
      ">>>>>EPOCH 1 Average_loss = 265.238412109375\n",
      ">>>>> Test set loss 205.24559291992188\n",
      ">>>>>EPOCH 2 Average_loss = 196.314794921875\n",
      ">>>>> Test set loss 187.6227565185547\n",
      ">>>>>EPOCH 3 Average_loss = 180.729150390625\n",
      ">>>>> Test set loss 175.14065998535156\n",
      ">>>>>EPOCH 4 Average_loss = 172.622936328125\n",
      ">>>>> Test set loss 170.7321541015625\n",
      ">>>>>EPOCH 5 Average_loss = 169.139123046875\n",
      ">>>>> Test set loss 167.825475\n",
      ">>>>>EPOCH 6 Average_loss = 166.710246484375\n",
      ">>>>> Test set loss 165.7691666748047\n",
      ">>>>>EPOCH 7 Average_loss = 164.917824609375\n",
      ">>>>> Test set loss 164.0526201171875\n",
      ">>>>>EPOCH 8 Average_loss = 163.07696640625\n",
      ">>>>> Test set loss 162.55447817382813\n",
      ">>>>>EPOCH 9 Average_loss = 161.50196015625\n",
      ">>>>> Test set loss 160.61736188964844\n",
      ">>>>>EPOCH 10 Average_loss = 159.830196484375\n",
      ">>>>> Test set loss 158.98301838378907\n",
      ">>>>>EPOCH 11 Average_loss = 158.2415953125\n",
      ">>>>> Test set loss 157.53611528320312\n",
      ">>>>>EPOCH 12 Average_loss = 157.094649609375\n",
      ">>>>> Test set loss 156.1448741455078\n",
      ">>>>>EPOCH 13 Average_loss = 155.619989453125\n",
      ">>>>> Test set loss 155.13245888671875\n",
      ">>>>>EPOCH 14 Average_loss = 154.624101171875\n",
      ">>>>> Test set loss 154.06743413085937\n",
      ">>>>>EPOCH 15 Average_loss = 153.744395703125\n",
      ">>>>> Test set loss 153.5339052734375\n",
      ">>>>>EPOCH 16 Average_loss = 152.830572265625\n",
      ">>>>> Test set loss 152.5926219482422\n",
      ">>>>>EPOCH 17 Average_loss = 151.8997203125\n",
      ">>>>> Test set loss 151.35402536621095\n",
      ">>>>>EPOCH 18 Average_loss = 151.106341015625\n",
      ">>>>> Test set loss 151.0693780517578\n",
      ">>>>>EPOCH 19 Average_loss = 150.40692265625\n",
      ">>>>> Test set loss 149.98738432617188\n",
      ">>>>>EPOCH 20 Average_loss = 149.50809140625\n",
      ">>>>> Test set loss 148.88704145507813\n"
     ]
    }
   ],
   "source": [
    "for epoch in range(1, 21):\n",
    "    train(epoch)\n",
    "    test()"
   ]
  },
  {
   "cell_type": "code",
   "execution_count": 7,
   "metadata": {},
   "outputs": [],
   "source": [
    "from torchvision.utils import save_image\n",
    "\n",
    "with torch.no_grad():\n",
    "    z = torch.randn(16, 2)\n",
    "\n",
    "    sample = vae.decoder(z)\n",
    "    save_image(sample.view(16, 1, 28, 28), 'tutorial_vae_result.png')"
   ]
  },
  {
   "cell_type": "code",
   "execution_count": null,
   "metadata": {},
   "outputs": [],
   "source": []
  }
 ],
 "metadata": {
  "kernelspec": {
   "display_name": "jinwoo",
   "language": "python",
   "name": "python3"
  },
  "language_info": {
   "codemirror_mode": {
    "name": "ipython",
    "version": 3
   },
   "file_extension": ".py",
   "mimetype": "text/x-python",
   "name": "python",
   "nbconvert_exporter": "python",
   "pygments_lexer": "ipython3",
   "version": "3.9.12"
  },
  "orig_nbformat": 4
 },
 "nbformat": 4,
 "nbformat_minor": 2
}
