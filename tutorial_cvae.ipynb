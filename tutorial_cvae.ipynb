{
 "cells": [
  {
   "cell_type": "code",
   "execution_count": 1,
   "metadata": {},
   "outputs": [],
   "source": [
    "import torch\n",
    "import torch.nn as nn\n",
    "import torch.nn.functional as F\n",
    "from torch.utils.data import DataLoader\n",
    "\n",
    "from torchvision import datasets\n",
    "from torchvision import transforms"
   ]
  },
  {
   "cell_type": "code",
   "execution_count": 2,
   "metadata": {},
   "outputs": [],
   "source": [
    "# Mnist Train_dataset\n",
    "transform = transforms.Compose([transforms.ToTensor()])\n",
    "\n",
    "train_dataset = datasets.MNIST(root='./mnist_data', train=True, transform=transform, download=True)\n",
    "train_dataset = datasets.MNIST(root='./mnist_data', train=False, transform=transform, download=True)\n",
    "\n",
    "BATCH_SIZE = 256\n",
    "train_dataloader = DataLoader(train_dataset, batch_size=BATCH_SIZE, shuffle=True, drop_last=True)\n",
    "test_dataloader = DataLoader(train_dataset, batch_size=BATCH_SIZE, shuffle=True, drop_last=False)"
   ]
  },
  {
   "cell_type": "code",
   "execution_count": 3,
   "metadata": {},
   "outputs": [
    {
     "data": {
      "text/plain": [
       "CVAE(\n",
       "  (en_fc1): Linear(in_features=794, out_features=512, bias=True)\n",
       "  (en_fc2): Linear(in_features=512, out_features=256, bias=True)\n",
       "  (en_fc3_u): Linear(in_features=256, out_features=2, bias=True)\n",
       "  (en_fc3_var): Linear(in_features=256, out_features=2, bias=True)\n",
       "  (de_fc1): Linear(in_features=12, out_features=256, bias=True)\n",
       "  (de_fc2): Linear(in_features=256, out_features=512, bias=True)\n",
       "  (de_fc3): Linear(in_features=512, out_features=784, bias=True)\n",
       "  (flatten): Flatten(start_dim=1, end_dim=-1)\n",
       ")"
      ]
     },
     "execution_count": 3,
     "metadata": {},
     "output_type": "execute_result"
    }
   ],
   "source": [
    "class CVAE(nn.Module):\n",
    "\n",
    "    def __init__(self, input_dim=784, hidden_dim1=512, hidden_dim2=256, z_dim=2, c_dim=10):\n",
    "        super(CVAE, self).__init__()\n",
    "\n",
    "        # encoder\n",
    "        self.en_fc1 = nn.Linear(input_dim + c_dim, hidden_dim1)\n",
    "        self.en_fc2 = nn.Linear(hidden_dim1, hidden_dim2)\n",
    "        self.en_fc3_u = nn.Linear(hidden_dim2, z_dim) # u, mean\n",
    "        self.en_fc3_var = nn.Linear(hidden_dim2, z_dim) # s, log_var\n",
    "\n",
    "        # decoder\n",
    "\n",
    "        self.de_fc1 = nn.Linear(z_dim + c_dim, hidden_dim2)\n",
    "        self.de_fc2 = nn.Linear(hidden_dim2, hidden_dim1)\n",
    "        self.de_fc3 = nn.Linear(hidden_dim1, input_dim)\n",
    "\n",
    "        #\n",
    "        self.flatten = nn.Flatten()\n",
    "\n",
    "    def encoder(self, inputs, conditions):\n",
    "        x = self.flatten(inputs)\n",
    "        x = torch.concat([x, conditions], dim=-1)\n",
    "\n",
    "\n",
    "        x = F.relu(self.en_fc1(x))\n",
    "        x = F.relu(self.en_fc2(x))\n",
    "\n",
    "        mu = self.en_fc3_u(x)\n",
    "        log_var = self.en_fc3_var(x)\n",
    "\n",
    "        return mu, log_var\n",
    "    \n",
    "    def reparameterization(self, mu, log_var):\n",
    "        std = torch.exp(0.5 * log_var)\n",
    "        eps = torch.randn_like(std)\n",
    "        z = mu + std * eps\n",
    "        return z\n",
    "    \n",
    "    def decoder(self, z, conditions):\n",
    "\n",
    "        x = torch.concat([z, conditions], dim=-1)\n",
    "        x = F.relu(self.de_fc1(x))\n",
    "        x = F.relu(self.de_fc2(x))\n",
    "        recon_x = torch.sigmoid(self.de_fc3(x)) # 0 ~ 1\n",
    "        return recon_x\n",
    "    \n",
    "    def forward(self, inputs, conditions):\n",
    "        mu, log_var = self.encoder(inputs, conditions)\n",
    "        z = self.reparameterization(mu, log_var)\n",
    "        recon_x = self.decoder(z, conditions)\n",
    "        return recon_x , mu, z\n",
    "    \n",
    "cvae = CVAE()\n",
    "cvae"
   ]
  },
  {
   "cell_type": "code",
   "execution_count": 4,
   "metadata": {},
   "outputs": [],
   "source": [
    "optimizer = torch.optim.Adam(cvae.parameters())\n",
    "\n",
    "def loss_function(recon_x, x, mu, log_var):\n",
    "    flatten = nn.Flatten()\n",
    "    bce = nn.BCELoss(reduction='sum')\n",
    "\n",
    "    x = flatten(x)\n",
    "\n",
    "    BCE_Loss = bce(recon_x, x)\n",
    "    KLD_Loss = 0.5 * torch.sum(mu**2 + torch.exp(log_var) - log_var -1)\n",
    "    return BCE_Loss + KLD_Loss\n",
    "\n",
    "def one_of_k_encoding(x, class_num=10):\n",
    "    vocab = list(range(class_num))\n",
    "\n",
    "    output = []\n",
    "    for i in x:\n",
    "        encodinig = list(map(lambda s: float(s==i), vocab))\n",
    "        output.append(encodinig)\n",
    "    return torch.tensor(output, dtype=torch.float32)"
   ]
  },
  {
   "cell_type": "code",
   "execution_count": 5,
   "metadata": {},
   "outputs": [],
   "source": [
    "def train(epoch):\n",
    "    cvae.train()\n",
    "    train_losses = 0.0\n",
    "    for data, label in train_dataloader:\n",
    "        optimizer.zero_grad()\n",
    "        conditions = one_of_k_encoding(label)\n",
    "\n",
    "        recon_batch, mu, log_var = cvae(data, conditions)\n",
    "\n",
    "        loss = loss_function(recon_batch, data, mu, log_var)\n",
    "        loss.backward()\n",
    "        optimizer.step()\n",
    "        train_losses += loss.item()\n",
    "    print(f'>>>>>EPOCH {epoch} Average_loss = {train_losses / len(train_dataloader.dataset)}')\n",
    "\n",
    "\n",
    "def test():\n",
    "    cvae.eval()\n",
    "    test_losses = 0.0\n",
    "    with torch.no_grad():\n",
    "        for data, label in test_dataloader:\n",
    "            conditions = one_of_k_encoding(label)\n",
    "\n",
    "            recon_batch, mu, log_var = cvae(data, conditions)\n",
    "            test_losses += loss_function(recon_batch, data, mu, log_var).item()\n",
    "    test_losses /= len(test_dataloader.dataset)\n",
    "    print(f'>>>>> Test set loss {test_losses}')"
   ]
  },
  {
   "cell_type": "code",
   "execution_count": 6,
   "metadata": {},
   "outputs": [
    {
     "name": "stdout",
     "output_type": "stream",
     "text": [
      ">>>>>EPOCH 1 Average_loss = 297.184584375\n",
      ">>>>> Test set loss 204.51787109375\n",
      ">>>>>EPOCH 2 Average_loss = 195.15897265625\n",
      ">>>>> Test set loss 182.2676255126953\n",
      ">>>>>EPOCH 3 Average_loss = 172.8423453125\n",
      ">>>>> Test set loss 166.47366264648437\n",
      ">>>>>EPOCH 4 Average_loss = 161.7261953125\n",
      ">>>>> Test set loss 157.20613024902343\n",
      ">>>>>EPOCH 5 Average_loss = 154.07563984375\n",
      ">>>>> Test set loss 151.39239956054686\n",
      ">>>>>EPOCH 6 Average_loss = 149.63446875\n",
      ">>>>> Test set loss 148.14986274414062\n",
      ">>>>>EPOCH 7 Average_loss = 146.963215234375\n",
      ">>>>> Test set loss 145.7650412841797\n",
      ">>>>>EPOCH 8 Average_loss = 144.687115234375\n",
      ">>>>> Test set loss 143.5314244628906\n",
      ">>>>>EPOCH 9 Average_loss = 142.438504296875\n",
      ">>>>> Test set loss 141.52418823242186\n",
      ">>>>>EPOCH 10 Average_loss = 140.292949609375\n",
      ">>>>> Test set loss 139.25463903808594\n",
      ">>>>>EPOCH 11 Average_loss = 138.550091796875\n",
      ">>>>> Test set loss 137.82870463867187\n",
      ">>>>>EPOCH 12 Average_loss = 137.3149265625\n",
      ">>>>> Test set loss 136.57165769042967\n",
      ">>>>>EPOCH 13 Average_loss = 135.983973828125\n",
      ">>>>> Test set loss 135.38717099609374\n",
      ">>>>>EPOCH 14 Average_loss = 134.911010546875\n",
      ">>>>> Test set loss 134.3989641845703\n",
      ">>>>>EPOCH 15 Average_loss = 134.16263984375\n",
      ">>>>> Test set loss 133.65652980957032\n",
      ">>>>>EPOCH 16 Average_loss = 133.4563896484375\n",
      ">>>>> Test set loss 132.92311232910157\n",
      ">>>>>EPOCH 17 Average_loss = 132.946198828125\n",
      ">>>>> Test set loss 132.6174729248047\n",
      ">>>>>EPOCH 18 Average_loss = 132.265101953125\n",
      ">>>>> Test set loss 131.88811584472657\n",
      ">>>>>EPOCH 19 Average_loss = 131.689458203125\n",
      ">>>>> Test set loss 131.26633642578125\n",
      ">>>>>EPOCH 20 Average_loss = 131.3047728515625\n",
      ">>>>> Test set loss 131.11596181640624\n"
     ]
    }
   ],
   "source": [
    "for epoch in range(1, 21):\n",
    "    train(epoch)\n",
    "    test()"
   ]
  },
  {
   "cell_type": "code",
   "execution_count": 7,
   "metadata": {},
   "outputs": [],
   "source": [
    "from torchvision.utils import save_image\n",
    "\n",
    "with torch.no_grad():\n",
    "    z = torch.randn(10, 2)\n",
    "    conditions = torch.eye(10)\n",
    "\n",
    "    sample = cvae.decoder(z, conditions)\n",
    "    save_image(sample.view(10, 1, 28, 28), 'tutorial_cvae_result.png')"
   ]
  }
 ],
 "metadata": {
  "kernelspec": {
   "display_name": "base",
   "language": "python",
   "name": "python3"
  },
  "language_info": {
   "codemirror_mode": {
    "name": "ipython",
    "version": 3
   },
   "file_extension": ".py",
   "mimetype": "text/x-python",
   "name": "python",
   "nbconvert_exporter": "python",
   "pygments_lexer": "ipython3",
   "version": "3.9.12"
  },
  "orig_nbformat": 4
 },
 "nbformat": 4,
 "nbformat_minor": 2
}
